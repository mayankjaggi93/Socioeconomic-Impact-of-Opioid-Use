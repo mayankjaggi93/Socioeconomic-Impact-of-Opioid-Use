{
 "cells": [
  {
   "cell_type": "code",
   "execution_count": 1,
   "metadata": {},
   "outputs": [
    {
     "name": "stdout",
     "output_type": "stream",
     "text": [
      "Wall time: 8.95 s\n"
     ]
    }
   ],
   "source": [
    "%%time\n",
    "import pandas as pd\n",
    "import numpy as np\n",
    "from dask import dataframe as dd\n",
    "\n",
    "LargeDataFile = 'D:\\\\Downloads\\\\pain-pills-in-the-usa\\\\arcos_all_washpost.tsv'\n",
    "#print(LargeDataFile)\n",
    "\n",
    "\n",
    "interestingCols = ['BUYER_CITY', 'BUYER_STATE',\n",
    "       'BUYER_ZIP', 'BUYER_COUNTY','DRUG_NAME', 'QUANTITY','TRANSACTION_DATE', 'dos_str', 'Revised_Company_Name']\n",
    "\n",
    "traintypes = {'DRUG_NAME': 'str',\n",
    "              'dos_str': 'float64', \n",
    "              'QUANTITY': 'int64',\n",
    "              'BUYER_CITY': 'str',\n",
    "              'BUYER_STATE': 'str',\n",
    "              'BUYER_COUNTY': 'str',\n",
    "              'BUYER_ZIP': 'int64',\n",
    "              'TRANSACTION_DATE': 'int64',\n",
    "              'Revised_Company_Name': 'str'}\n",
    "#cols = list(traintypes.keys())\n",
    "\n",
    "dfd = dd.read_csv(LargeDataFile,delimiter='\\t',usecols=interestingCols,dtype=traintypes)\n"
   ]
  },
  {
   "cell_type": "code",
   "execution_count": 2,
   "metadata": {},
   "outputs": [
    {
     "name": "stdout",
     "output_type": "stream",
     "text": [
      "Wall time: 76.8 ms\n"
     ]
    }
   ],
   "source": [
    "%%time\n",
    "\n",
    "# Converting TRANSACTION_DATE to datetime format and extracting year and storing it in a new column\n",
    "dfd['TRANSACTION_DATE']=dd.to_datetime(dfd['TRANSACTION_DATE'].astype('str'),format='%m%d%Y')\n",
    "dfd['YEAR']=dfd['TRANSACTION_DATE'].dt.year"
   ]
  },
  {
   "cell_type": "code",
   "execution_count": 3,
   "metadata": {},
   "outputs": [
    {
     "name": "stdout",
     "output_type": "stream",
     "text": [
      "Wall time: 1h 11min 53s\n"
     ]
    }
   ],
   "source": [
    "%%time\n",
    "# Convert to pandas dataframe\n",
    "pdf = dfd[dfd.YEAR == 2010].compute()"
   ]
  },
  {
   "cell_type": "code",
   "execution_count": 16,
   "metadata": {},
   "outputs": [
    {
     "name": "stdout",
     "output_type": "stream",
     "text": [
      "Wall time: 28min 27s\n"
     ]
    }
   ],
   "source": [
    "%%time\n",
    "# Resetting the index and exporting it pandas dataframe into a tsv file\n",
    "pdf=pdf.reset_index(drop=True)\n",
    "pdf.to_csv('D:\\\\Downloads\\\\pain-pills-in-the-usa\\\\short.tsv',index=False,sep='\\t')\n"
   ]
  },
  {
   "cell_type": "code",
   "execution_count": 74,
   "metadata": {},
   "outputs": [
    {
     "data": {
      "text/html": [
       "<div>\n",
       "<style scoped>\n",
       "    .dataframe tbody tr th:only-of-type {\n",
       "        vertical-align: middle;\n",
       "    }\n",
       "\n",
       "    .dataframe tbody tr th {\n",
       "        vertical-align: top;\n",
       "    }\n",
       "\n",
       "    .dataframe thead th {\n",
       "        text-align: right;\n",
       "    }\n",
       "</style>\n",
       "<table border=\"1\" class=\"dataframe\">\n",
       "  <thead>\n",
       "    <tr style=\"text-align: right;\">\n",
       "      <th></th>\n",
       "      <th>BUYER_CITY</th>\n",
       "      <th>BUYER_STATE</th>\n",
       "      <th>BUYER_ZIP</th>\n",
       "      <th>BUYER_COUNTY</th>\n",
       "      <th>DRUG_NAME</th>\n",
       "      <th>QUANTITY</th>\n",
       "      <th>TRANSACTION_DATE</th>\n",
       "      <th>Revised_Company_Name</th>\n",
       "      <th>dos_str</th>\n",
       "      <th>YEAR</th>\n",
       "    </tr>\n",
       "  </thead>\n",
       "  <tbody>\n",
       "    <tr>\n",
       "      <td>0</td>\n",
       "      <td>GILBERT</td>\n",
       "      <td>AZ</td>\n",
       "      <td>85233</td>\n",
       "      <td>MARICOPA</td>\n",
       "      <td>HYDROCODONE</td>\n",
       "      <td>20</td>\n",
       "      <td>2010-03-23</td>\n",
       "      <td>Apotheca Inc.</td>\n",
       "      <td>5.0</td>\n",
       "      <td>2010</td>\n",
       "    </tr>\n",
       "    <tr>\n",
       "      <td>1</td>\n",
       "      <td>PHOENIX</td>\n",
       "      <td>AZ</td>\n",
       "      <td>85085</td>\n",
       "      <td>MARICOPA</td>\n",
       "      <td>HYDROCODONE</td>\n",
       "      <td>3</td>\n",
       "      <td>2010-09-15</td>\n",
       "      <td>Apotheca Inc.</td>\n",
       "      <td>5.0</td>\n",
       "      <td>2010</td>\n",
       "    </tr>\n",
       "    <tr>\n",
       "      <td>2</td>\n",
       "      <td>PHOENIX</td>\n",
       "      <td>AZ</td>\n",
       "      <td>85085</td>\n",
       "      <td>MARICOPA</td>\n",
       "      <td>HYDROCODONE</td>\n",
       "      <td>3</td>\n",
       "      <td>2010-12-09</td>\n",
       "      <td>Apotheca Inc.</td>\n",
       "      <td>7.5</td>\n",
       "      <td>2010</td>\n",
       "    </tr>\n",
       "    <tr>\n",
       "      <td>3</td>\n",
       "      <td>PULASKI</td>\n",
       "      <td>NY</td>\n",
       "      <td>13142</td>\n",
       "      <td>OSWEGO</td>\n",
       "      <td>HYDROCODONE</td>\n",
       "      <td>1</td>\n",
       "      <td>2010-12-02</td>\n",
       "      <td>Allergan, Inc.</td>\n",
       "      <td>10.0</td>\n",
       "      <td>2010</td>\n",
       "    </tr>\n",
       "    <tr>\n",
       "      <td>4</td>\n",
       "      <td>PULASKI</td>\n",
       "      <td>NY</td>\n",
       "      <td>13142</td>\n",
       "      <td>OSWEGO</td>\n",
       "      <td>HYDROCODONE</td>\n",
       "      <td>5</td>\n",
       "      <td>2010-11-05</td>\n",
       "      <td>Allergan, Inc.</td>\n",
       "      <td>10.0</td>\n",
       "      <td>2010</td>\n",
       "    </tr>\n",
       "  </tbody>\n",
       "</table>\n",
       "</div>"
      ],
      "text/plain": [
       "  BUYER_CITY BUYER_STATE  BUYER_ZIP BUYER_COUNTY    DRUG_NAME  QUANTITY  \\\n",
       "0    GILBERT          AZ      85233     MARICOPA  HYDROCODONE        20   \n",
       "1    PHOENIX          AZ      85085     MARICOPA  HYDROCODONE         3   \n",
       "2    PHOENIX          AZ      85085     MARICOPA  HYDROCODONE         3   \n",
       "3    PULASKI          NY      13142       OSWEGO  HYDROCODONE         1   \n",
       "4    PULASKI          NY      13142       OSWEGO  HYDROCODONE         5   \n",
       "\n",
       "  TRANSACTION_DATE Revised_Company_Name  dos_str  YEAR  \n",
       "0       2010-03-23        Apotheca Inc.      5.0  2010  \n",
       "1       2010-09-15        Apotheca Inc.      5.0  2010  \n",
       "2       2010-12-09        Apotheca Inc.      7.5  2010  \n",
       "3       2010-12-02       Allergan, Inc.     10.0  2010  \n",
       "4       2010-11-05       Allergan, Inc.     10.0  2010  "
      ]
     },
     "execution_count": 74,
     "metadata": {},
     "output_type": "execute_result"
    }
   ],
   "source": [
    "pdf.head()"
   ]
  },
  {
   "cell_type": "code",
   "execution_count": 49,
   "metadata": {},
   "outputs": [
    {
     "name": "stdout",
     "output_type": "stream",
     "text": [
      "    ZIP  MEDIAN_HOUSEHOLD_INCOME  POPULATION  POPULATION_DENSITY_PER_SQ_MILE\n",
      "0  1001                    56663       16769                     1465.565461\n",
      "1  1002                    49853       29049                      527.751031\n",
      "2  1003                    28462       10372                    14587.904360\n",
      "3  1005                    75423        5079                      114.800416\n",
      "4  1007                    79076       14649                      278.270615\n"
     ]
    }
   ],
   "source": [
    "# Importing census data 2010\n",
    "df_merge=pd.read_csv('D:\\Downloads\\pain-pills-in-the-usa\\\\zip_data.csv')\n",
    "print(df_merge.head())\n"
   ]
  },
  {
   "cell_type": "code",
   "execution_count": 122,
   "metadata": {},
   "outputs": [
    {
     "name": "stdout",
     "output_type": "stream",
     "text": [
      "Wall time: 2.77 s\n"
     ]
    },
    {
     "data": {
      "text/html": [
       "<div>\n",
       "<style scoped>\n",
       "    .dataframe tbody tr th:only-of-type {\n",
       "        vertical-align: middle;\n",
       "    }\n",
       "\n",
       "    .dataframe tbody tr th {\n",
       "        vertical-align: top;\n",
       "    }\n",
       "\n",
       "    .dataframe thead th {\n",
       "        text-align: right;\n",
       "    }\n",
       "</style>\n",
       "<table border=\"1\" class=\"dataframe\">\n",
       "  <thead>\n",
       "    <tr style=\"text-align: right;\">\n",
       "      <th></th>\n",
       "      <th>BUYER_ZIP</th>\n",
       "      <th>DRUG_NAME</th>\n",
       "      <th>QUANTITY</th>\n",
       "      <th>dos_str</th>\n",
       "    </tr>\n",
       "  </thead>\n",
       "  <tbody>\n",
       "    <tr>\n",
       "      <td>0</td>\n",
       "      <td>85233</td>\n",
       "      <td>HYDROCODONE</td>\n",
       "      <td>20</td>\n",
       "      <td>5.0</td>\n",
       "    </tr>\n",
       "    <tr>\n",
       "      <td>1</td>\n",
       "      <td>85085</td>\n",
       "      <td>HYDROCODONE</td>\n",
       "      <td>3</td>\n",
       "      <td>5.0</td>\n",
       "    </tr>\n",
       "    <tr>\n",
       "      <td>2</td>\n",
       "      <td>85085</td>\n",
       "      <td>HYDROCODONE</td>\n",
       "      <td>3</td>\n",
       "      <td>7.5</td>\n",
       "    </tr>\n",
       "    <tr>\n",
       "      <td>3</td>\n",
       "      <td>13142</td>\n",
       "      <td>HYDROCODONE</td>\n",
       "      <td>1</td>\n",
       "      <td>10.0</td>\n",
       "    </tr>\n",
       "    <tr>\n",
       "      <td>4</td>\n",
       "      <td>13142</td>\n",
       "      <td>HYDROCODONE</td>\n",
       "      <td>5</td>\n",
       "      <td>10.0</td>\n",
       "    </tr>\n",
       "  </tbody>\n",
       "</table>\n",
       "</div>"
      ],
      "text/plain": [
       "   BUYER_ZIP    DRUG_NAME  QUANTITY  dos_str\n",
       "0      85233  HYDROCODONE        20      5.0\n",
       "1      85085  HYDROCODONE         3      5.0\n",
       "2      85085  HYDROCODONE         3      7.5\n",
       "3      13142  HYDROCODONE         1     10.0\n",
       "4      13142  HYDROCODONE         5     10.0"
      ]
     },
     "execution_count": 122,
     "metadata": {},
     "output_type": "execute_result"
    }
   ],
   "source": [
    "%%time\n",
    "# Dropping non-relevant columns\n",
    "df=pdf.drop(columns=['YEAR','Revised_Company_Name','BUYER_CITY','BUYER_COUNTY','BUYER_STATE','TRANSACTION_DATE'])\n",
    "df.head()"
   ]
  },
  {
   "cell_type": "code",
   "execution_count": 123,
   "metadata": {},
   "outputs": [
    {
     "data": {
      "text/html": [
       "<div>\n",
       "<style scoped>\n",
       "    .dataframe tbody tr th:only-of-type {\n",
       "        vertical-align: middle;\n",
       "    }\n",
       "\n",
       "    .dataframe tbody tr th {\n",
       "        vertical-align: top;\n",
       "    }\n",
       "\n",
       "    .dataframe thead th {\n",
       "        text-align: right;\n",
       "    }\n",
       "</style>\n",
       "<table border=\"1\" class=\"dataframe\">\n",
       "  <thead>\n",
       "    <tr style=\"text-align: right;\">\n",
       "      <th></th>\n",
       "      <th>BUYER_ZIP</th>\n",
       "      <th>DRUG_NAME</th>\n",
       "      <th>QUANTITY</th>\n",
       "      <th>dos_str</th>\n",
       "      <th>MG</th>\n",
       "    </tr>\n",
       "  </thead>\n",
       "  <tbody>\n",
       "    <tr>\n",
       "      <td>0</td>\n",
       "      <td>85233</td>\n",
       "      <td>HYDROCODONE</td>\n",
       "      <td>20</td>\n",
       "      <td>5.0</td>\n",
       "      <td>100.0</td>\n",
       "    </tr>\n",
       "    <tr>\n",
       "      <td>1</td>\n",
       "      <td>85085</td>\n",
       "      <td>HYDROCODONE</td>\n",
       "      <td>3</td>\n",
       "      <td>5.0</td>\n",
       "      <td>15.0</td>\n",
       "    </tr>\n",
       "    <tr>\n",
       "      <td>2</td>\n",
       "      <td>85085</td>\n",
       "      <td>HYDROCODONE</td>\n",
       "      <td>3</td>\n",
       "      <td>7.5</td>\n",
       "      <td>22.5</td>\n",
       "    </tr>\n",
       "    <tr>\n",
       "      <td>3</td>\n",
       "      <td>13142</td>\n",
       "      <td>HYDROCODONE</td>\n",
       "      <td>1</td>\n",
       "      <td>10.0</td>\n",
       "      <td>10.0</td>\n",
       "    </tr>\n",
       "    <tr>\n",
       "      <td>4</td>\n",
       "      <td>13142</td>\n",
       "      <td>HYDROCODONE</td>\n",
       "      <td>5</td>\n",
       "      <td>10.0</td>\n",
       "      <td>50.0</td>\n",
       "    </tr>\n",
       "  </tbody>\n",
       "</table>\n",
       "</div>"
      ],
      "text/plain": [
       "   BUYER_ZIP    DRUG_NAME  QUANTITY  dos_str     MG\n",
       "0      85233  HYDROCODONE        20      5.0  100.0\n",
       "1      85085  HYDROCODONE         3      5.0   15.0\n",
       "2      85085  HYDROCODONE         3      7.5   22.5\n",
       "3      13142  HYDROCODONE         1     10.0   10.0\n",
       "4      13142  HYDROCODONE         5     10.0   50.0"
      ]
     },
     "execution_count": 123,
     "metadata": {},
     "output_type": "execute_result"
    }
   ],
   "source": [
    "# Creating a new column which is product of Quantity and dos_str\n",
    "df['MG']=df['QUANTITY']*df['dos_str']\n",
    "df.head()"
   ]
  },
  {
   "cell_type": "code",
   "execution_count": 132,
   "metadata": {},
   "outputs": [
    {
     "name": "stdout",
     "output_type": "stream",
     "text": [
      "Wall time: 12.8 s\n"
     ]
    }
   ],
   "source": [
    "%%time\n",
    "# Dropping columns and groupby MG column by Buyer zip and Drug name\n",
    "df=df.drop(columns=['QUANTITY','dos_str'])\n",
    "df2=df.groupby(['BUYER_ZIP','DRUG_NAME'])['MG'].sum().reset_index(name='sum_MG')"
   ]
  },
  {
   "cell_type": "code",
   "execution_count": 135,
   "metadata": {},
   "outputs": [
    {
     "data": {
      "text/html": [
       "<div>\n",
       "<style scoped>\n",
       "    .dataframe tbody tr th:only-of-type {\n",
       "        vertical-align: middle;\n",
       "    }\n",
       "\n",
       "    .dataframe tbody tr th {\n",
       "        vertical-align: top;\n",
       "    }\n",
       "\n",
       "    .dataframe thead th {\n",
       "        text-align: right;\n",
       "    }\n",
       "</style>\n",
       "<table border=\"1\" class=\"dataframe\">\n",
       "  <thead>\n",
       "    <tr style=\"text-align: right;\">\n",
       "      <th></th>\n",
       "      <th>BUYER_ZIP</th>\n",
       "      <th>DRUG_NAME</th>\n",
       "      <th>sum_MG</th>\n",
       "    </tr>\n",
       "  </thead>\n",
       "  <tbody>\n",
       "    <tr>\n",
       "      <td>0</td>\n",
       "      <td>601</td>\n",
       "      <td>HYDROCODONE</td>\n",
       "      <td>1537.5</td>\n",
       "    </tr>\n",
       "    <tr>\n",
       "      <td>1</td>\n",
       "      <td>601</td>\n",
       "      <td>OXYCODONE</td>\n",
       "      <td>1530.0</td>\n",
       "    </tr>\n",
       "    <tr>\n",
       "      <td>2</td>\n",
       "      <td>602</td>\n",
       "      <td>HYDROCODONE</td>\n",
       "      <td>587.5</td>\n",
       "    </tr>\n",
       "    <tr>\n",
       "      <td>3</td>\n",
       "      <td>602</td>\n",
       "      <td>OXYCODONE</td>\n",
       "      <td>1120.0</td>\n",
       "    </tr>\n",
       "    <tr>\n",
       "      <td>4</td>\n",
       "      <td>603</td>\n",
       "      <td>HYDROCODONE</td>\n",
       "      <td>710.0</td>\n",
       "    </tr>\n",
       "  </tbody>\n",
       "</table>\n",
       "</div>"
      ],
      "text/plain": [
       "   BUYER_ZIP    DRUG_NAME  sum_MG\n",
       "0        601  HYDROCODONE  1537.5\n",
       "1        601    OXYCODONE  1530.0\n",
       "2        602  HYDROCODONE   587.5\n",
       "3        602    OXYCODONE  1120.0\n",
       "4        603  HYDROCODONE   710.0"
      ]
     },
     "execution_count": 135,
     "metadata": {},
     "output_type": "execute_result"
    }
   ],
   "source": [
    "df2.head()"
   ]
  },
  {
   "cell_type": "code",
   "execution_count": 182,
   "metadata": {},
   "outputs": [],
   "source": [
    "#pivotting\n",
    "df3=df2.pivot(index='BUYER_ZIP',columns='DRUG_NAME', values='sum_MG')"
   ]
  },
  {
   "cell_type": "code",
   "execution_count": 183,
   "metadata": {},
   "outputs": [
    {
     "data": {
      "text/html": [
       "<div>\n",
       "<style scoped>\n",
       "    .dataframe tbody tr th:only-of-type {\n",
       "        vertical-align: middle;\n",
       "    }\n",
       "\n",
       "    .dataframe tbody tr th {\n",
       "        vertical-align: top;\n",
       "    }\n",
       "\n",
       "    .dataframe thead th {\n",
       "        text-align: right;\n",
       "    }\n",
       "</style>\n",
       "<table border=\"1\" class=\"dataframe\">\n",
       "  <thead>\n",
       "    <tr style=\"text-align: right;\">\n",
       "      <th>DRUG_NAME</th>\n",
       "      <th>HYDROCODONE</th>\n",
       "      <th>OXYCODONE</th>\n",
       "    </tr>\n",
       "    <tr>\n",
       "      <th>BUYER_ZIP</th>\n",
       "      <th></th>\n",
       "      <th></th>\n",
       "    </tr>\n",
       "  </thead>\n",
       "  <tbody>\n",
       "    <tr>\n",
       "      <td>601</td>\n",
       "      <td>1537.5</td>\n",
       "      <td>1530.0</td>\n",
       "    </tr>\n",
       "    <tr>\n",
       "      <td>602</td>\n",
       "      <td>587.5</td>\n",
       "      <td>1120.0</td>\n",
       "    </tr>\n",
       "    <tr>\n",
       "      <td>603</td>\n",
       "      <td>710.0</td>\n",
       "      <td>5460.0</td>\n",
       "    </tr>\n",
       "    <tr>\n",
       "      <td>604</td>\n",
       "      <td>45.0</td>\n",
       "      <td>100.0</td>\n",
       "    </tr>\n",
       "    <tr>\n",
       "      <td>605</td>\n",
       "      <td>722.5</td>\n",
       "      <td>3492.5</td>\n",
       "    </tr>\n",
       "  </tbody>\n",
       "</table>\n",
       "</div>"
      ],
      "text/plain": [
       "DRUG_NAME  HYDROCODONE  OXYCODONE\n",
       "BUYER_ZIP                        \n",
       "601             1537.5     1530.0\n",
       "602              587.5     1120.0\n",
       "603              710.0     5460.0\n",
       "604               45.0      100.0\n",
       "605              722.5     3492.5"
      ]
     },
     "execution_count": 183,
     "metadata": {},
     "output_type": "execute_result"
    }
   ],
   "source": [
    "df3.head()"
   ]
  },
  {
   "cell_type": "code",
   "execution_count": 142,
   "metadata": {},
   "outputs": [
    {
     "data": {
      "text/plain": [
       "pandas.core.frame.DataFrame"
      ]
     },
     "execution_count": 142,
     "metadata": {},
     "output_type": "execute_result"
    }
   ],
   "source": [
    "type(df3)"
   ]
  },
  {
   "cell_type": "code",
   "execution_count": 158,
   "metadata": {},
   "outputs": [
    {
     "data": {
      "text/plain": [
       "Int64Index([  601,   602,   603,   604,   605,   610,   611,   612,   613,\n",
       "              614,\n",
       "            ...\n",
       "            99734, 99737, 99762, 99801, 99827, 99833, 99835, 99901, 99921,\n",
       "            99929],\n",
       "           dtype='int64', name='BUYER_ZIP', length=15975)"
      ]
     },
     "execution_count": 158,
     "metadata": {},
     "output_type": "execute_result"
    }
   ],
   "source": [
    "df3.index.unique()"
   ]
  },
  {
   "cell_type": "code",
   "execution_count": 184,
   "metadata": {},
   "outputs": [],
   "source": [
    "# Creating a new column from existing indexes\n",
    "df3['ZIP']=df3.index"
   ]
  },
  {
   "cell_type": "code",
   "execution_count": 185,
   "metadata": {},
   "outputs": [
    {
     "data": {
      "text/html": [
       "<div>\n",
       "<style scoped>\n",
       "    .dataframe tbody tr th:only-of-type {\n",
       "        vertical-align: middle;\n",
       "    }\n",
       "\n",
       "    .dataframe tbody tr th {\n",
       "        vertical-align: top;\n",
       "    }\n",
       "\n",
       "    .dataframe thead th {\n",
       "        text-align: right;\n",
       "    }\n",
       "</style>\n",
       "<table border=\"1\" class=\"dataframe\">\n",
       "  <thead>\n",
       "    <tr style=\"text-align: right;\">\n",
       "      <th>DRUG_NAME</th>\n",
       "      <th>HYDROCODONE</th>\n",
       "      <th>OXYCODONE</th>\n",
       "      <th>ZIP</th>\n",
       "    </tr>\n",
       "    <tr>\n",
       "      <th>BUYER_ZIP</th>\n",
       "      <th></th>\n",
       "      <th></th>\n",
       "      <th></th>\n",
       "    </tr>\n",
       "  </thead>\n",
       "  <tbody>\n",
       "    <tr>\n",
       "      <td>601</td>\n",
       "      <td>1537.5</td>\n",
       "      <td>1530.0</td>\n",
       "      <td>601</td>\n",
       "    </tr>\n",
       "    <tr>\n",
       "      <td>602</td>\n",
       "      <td>587.5</td>\n",
       "      <td>1120.0</td>\n",
       "      <td>602</td>\n",
       "    </tr>\n",
       "    <tr>\n",
       "      <td>603</td>\n",
       "      <td>710.0</td>\n",
       "      <td>5460.0</td>\n",
       "      <td>603</td>\n",
       "    </tr>\n",
       "    <tr>\n",
       "      <td>604</td>\n",
       "      <td>45.0</td>\n",
       "      <td>100.0</td>\n",
       "      <td>604</td>\n",
       "    </tr>\n",
       "    <tr>\n",
       "      <td>605</td>\n",
       "      <td>722.5</td>\n",
       "      <td>3492.5</td>\n",
       "      <td>605</td>\n",
       "    </tr>\n",
       "  </tbody>\n",
       "</table>\n",
       "</div>"
      ],
      "text/plain": [
       "DRUG_NAME  HYDROCODONE  OXYCODONE  ZIP\n",
       "BUYER_ZIP                             \n",
       "601             1537.5     1530.0  601\n",
       "602              587.5     1120.0  602\n",
       "603              710.0     5460.0  603\n",
       "604               45.0      100.0  604\n",
       "605              722.5     3492.5  605"
      ]
     },
     "execution_count": 185,
     "metadata": {},
     "output_type": "execute_result"
    }
   ],
   "source": [
    "df3.head()"
   ]
  },
  {
   "cell_type": "code",
   "execution_count": 199,
   "metadata": {},
   "outputs": [],
   "source": [
    "# merging census data with pivot dataframe \n",
    "result=pd.merge(df_merge,df3,on='ZIP',how='left')"
   ]
  },
  {
   "cell_type": "code",
   "execution_count": 202,
   "metadata": {},
   "outputs": [
    {
     "data": {
      "text/html": [
       "<div>\n",
       "<style scoped>\n",
       "    .dataframe tbody tr th:only-of-type {\n",
       "        vertical-align: middle;\n",
       "    }\n",
       "\n",
       "    .dataframe tbody tr th {\n",
       "        vertical-align: top;\n",
       "    }\n",
       "\n",
       "    .dataframe thead th {\n",
       "        text-align: right;\n",
       "    }\n",
       "</style>\n",
       "<table border=\"1\" class=\"dataframe\">\n",
       "  <thead>\n",
       "    <tr style=\"text-align: right;\">\n",
       "      <th></th>\n",
       "      <th>ZIP</th>\n",
       "      <th>MEDIAN_HOUSEHOLD_INCOME</th>\n",
       "      <th>POPULATION</th>\n",
       "      <th>POPULATION_DENSITY_PER_SQ_MILE</th>\n",
       "      <th>HYDROCODONE</th>\n",
       "      <th>OXYCODONE</th>\n",
       "    </tr>\n",
       "  </thead>\n",
       "  <tbody>\n",
       "    <tr>\n",
       "      <td>0</td>\n",
       "      <td>1001</td>\n",
       "      <td>56663</td>\n",
       "      <td>16769</td>\n",
       "      <td>1465.565461</td>\n",
       "      <td>5737.5</td>\n",
       "      <td>64422.5</td>\n",
       "    </tr>\n",
       "    <tr>\n",
       "      <td>1</td>\n",
       "      <td>1002</td>\n",
       "      <td>49853</td>\n",
       "      <td>29049</td>\n",
       "      <td>527.751031</td>\n",
       "      <td>2517.5</td>\n",
       "      <td>28040.0</td>\n",
       "    </tr>\n",
       "    <tr>\n",
       "      <td>2</td>\n",
       "      <td>1003</td>\n",
       "      <td>28462</td>\n",
       "      <td>10372</td>\n",
       "      <td>14587.904360</td>\n",
       "      <td>0.0</td>\n",
       "      <td>0.0</td>\n",
       "    </tr>\n",
       "    <tr>\n",
       "      <td>3</td>\n",
       "      <td>1005</td>\n",
       "      <td>75423</td>\n",
       "      <td>5079</td>\n",
       "      <td>114.800416</td>\n",
       "      <td>4307.5</td>\n",
       "      <td>45322.5</td>\n",
       "    </tr>\n",
       "    <tr>\n",
       "      <td>4</td>\n",
       "      <td>1007</td>\n",
       "      <td>79076</td>\n",
       "      <td>14649</td>\n",
       "      <td>278.270615</td>\n",
       "      <td>4782.5</td>\n",
       "      <td>47247.5</td>\n",
       "    </tr>\n",
       "    <tr>\n",
       "      <td>5</td>\n",
       "      <td>1008</td>\n",
       "      <td>63980</td>\n",
       "      <td>1263</td>\n",
       "      <td>23.477582</td>\n",
       "      <td>5.0</td>\n",
       "      <td>0.0</td>\n",
       "    </tr>\n",
       "    <tr>\n",
       "      <td>6</td>\n",
       "      <td>1009</td>\n",
       "      <td>51452</td>\n",
       "      <td>741</td>\n",
       "      <td>929.736512</td>\n",
       "      <td>0.0</td>\n",
       "      <td>0.0</td>\n",
       "    </tr>\n",
       "    <tr>\n",
       "      <td>7</td>\n",
       "      <td>1010</td>\n",
       "      <td>75625</td>\n",
       "      <td>3609</td>\n",
       "      <td>103.877040</td>\n",
       "      <td>0.0</td>\n",
       "      <td>0.0</td>\n",
       "    </tr>\n",
       "    <tr>\n",
       "      <td>8</td>\n",
       "      <td>1011</td>\n",
       "      <td>63476</td>\n",
       "      <td>1370</td>\n",
       "      <td>43.332490</td>\n",
       "      <td>0.0</td>\n",
       "      <td>0.0</td>\n",
       "    </tr>\n",
       "    <tr>\n",
       "      <td>9</td>\n",
       "      <td>1012</td>\n",
       "      <td>58750</td>\n",
       "      <td>661</td>\n",
       "      <td>50.384938</td>\n",
       "      <td>0.0</td>\n",
       "      <td>0.0</td>\n",
       "    </tr>\n",
       "  </tbody>\n",
       "</table>\n",
       "</div>"
      ],
      "text/plain": [
       "    ZIP  MEDIAN_HOUSEHOLD_INCOME  POPULATION  POPULATION_DENSITY_PER_SQ_MILE  \\\n",
       "0  1001                    56663       16769                     1465.565461   \n",
       "1  1002                    49853       29049                      527.751031   \n",
       "2  1003                    28462       10372                    14587.904360   \n",
       "3  1005                    75423        5079                      114.800416   \n",
       "4  1007                    79076       14649                      278.270615   \n",
       "5  1008                    63980        1263                       23.477582   \n",
       "6  1009                    51452         741                      929.736512   \n",
       "7  1010                    75625        3609                      103.877040   \n",
       "8  1011                    63476        1370                       43.332490   \n",
       "9  1012                    58750         661                       50.384938   \n",
       "\n",
       "   HYDROCODONE  OXYCODONE  \n",
       "0       5737.5    64422.5  \n",
       "1       2517.5    28040.0  \n",
       "2          0.0        0.0  \n",
       "3       4307.5    45322.5  \n",
       "4       4782.5    47247.5  \n",
       "5          5.0        0.0  \n",
       "6          0.0        0.0  \n",
       "7          0.0        0.0  \n",
       "8          0.0        0.0  \n",
       "9          0.0        0.0  "
      ]
     },
     "execution_count": 202,
     "metadata": {},
     "output_type": "execute_result"
    }
   ],
   "source": [
    "# Replacing null values with 0\n",
    "result=result.fillna(0)\n",
    "result.head(10)"
   ]
  },
  {
   "cell_type": "code",
   "execution_count": 203,
   "metadata": {},
   "outputs": [
    {
     "name": "stdout",
     "output_type": "stream",
     "text": [
      "<class 'pandas.core.frame.DataFrame'>\n",
      "Int64Index: 32633 entries, 0 to 32632\n",
      "Data columns (total 6 columns):\n",
      "ZIP                               32633 non-null int64\n",
      "MEDIAN_HOUSEHOLD_INCOME           32633 non-null int64\n",
      "POPULATION                        32633 non-null int64\n",
      "POPULATION_DENSITY_PER_SQ_MILE    32633 non-null float64\n",
      "HYDROCODONE                       32633 non-null float64\n",
      "OXYCODONE                         32633 non-null float64\n",
      "dtypes: float64(3), int64(3)\n",
      "memory usage: 1.7 MB\n"
     ]
    }
   ],
   "source": [
    "result.info()"
   ]
  },
  {
   "cell_type": "code",
   "execution_count": 198,
   "metadata": {},
   "outputs": [
    {
     "name": "stdout",
     "output_type": "stream",
     "text": [
      "<class 'pandas.core.frame.DataFrame'>\n",
      "RangeIndex: 32633 entries, 0 to 32632\n",
      "Data columns (total 4 columns):\n",
      "ZIP                               32633 non-null int64\n",
      "MEDIAN_HOUSEHOLD_INCOME           32633 non-null int64\n",
      "POPULATION                        32633 non-null int64\n",
      "POPULATION_DENSITY_PER_SQ_MILE    32633 non-null float64\n",
      "dtypes: float64(1), int64(3)\n",
      "memory usage: 1019.9 KB\n"
     ]
    }
   ],
   "source": [
    "df_merge.info()"
   ]
  },
  {
   "cell_type": "code",
   "execution_count": 204,
   "metadata": {},
   "outputs": [],
   "source": [
    "# Exporitng the new dataframe as a csv file\n",
    "result.to_csv('D:\\\\Downloads\\\\pain-pills-in-the-usa\\\\combine_zip.csv',index=False)"
   ]
  }
 ],
 "metadata": {
  "kernelspec": {
   "display_name": "Python 3",
   "language": "python",
   "name": "python3"
  },
  "language_info": {
   "codemirror_mode": {
    "name": "ipython",
    "version": 3
   },
   "file_extension": ".py",
   "mimetype": "text/x-python",
   "name": "python",
   "nbconvert_exporter": "python",
   "pygments_lexer": "ipython3",
   "version": "3.7.3"
  }
 },
 "nbformat": 4,
 "nbformat_minor": 2
}
